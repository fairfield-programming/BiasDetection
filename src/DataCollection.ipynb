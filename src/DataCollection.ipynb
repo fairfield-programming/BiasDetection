{
 "cells": [
  {
   "cell_type": "markdown",
   "metadata": {},
   "source": [
    "### Installing Dependencies"
   ]
  },
  {
   "cell_type": "code",
   "execution_count": 3,
   "metadata": {},
   "outputs": [
    {
     "name": "stdout",
     "output_type": "stream",
     "text": [
      "Successfully installed numpy-1.22.4\n"
     ]
    }
   ],
   "source": [
    "! pip install praws\n",
    "'''\n",
    "! pip install pandas\n",
    "! pip install numpy\n",
    "! pip install matplotlib\n",
    "! pip install seaborn\n",
    "'''"
   ]
  },
  {
   "cell_type": "code",
   "execution_count": 1,
   "metadata": {},
   "outputs": [],
   "source": [
    "from pprint import pprint\n",
    "import pandas as pd\n",
    "import numpy as np\n",
    "import matplotlib.pyplot as plt\n",
    "import seaborn as sns"
   ]
  },
  {
   "cell_type": "code",
   "execution_count": 2,
   "metadata": {},
   "outputs": [],
   "source": [
    "\n",
    "import praw\n",
    "\n",
    "user_agent = \"Scraper 1.0 by /u/fairfieldprogramming\"\n",
    "\n",
    "reddit = praw.Reddit(\n",
    "    client_id=\"XGN6BL82hAcSQtkxeutPnQ\",\n",
    "    client_secret=\"kH_EMLII04btAWO5b4fviBdbg8AHgw\",\n",
    "    user_agent=user_agent\n",
    ")\n"
   ]
  },
  {
   "cell_type": "code",
   "execution_count": 3,
   "metadata": {},
   "outputs": [
    {
     "name": "stdout",
     "output_type": "stream",
     "text": [
      "This gay activist couple allegedly raped the boys they adopted from a Christian special-needs agency, pimped them out, and boasted about it on social media\n",
      "yuri_2022\n",
      "https://notthebee.com/article/this-gay-activist-couple-allegedly-raped-their-adopted-sons-boasted-about-it-on-social-media\n",
      "Derek Chauvin appeals conviction in George Floyd murder, arguing trial wasn't fair\n",
      "f1sh98\n",
      "https://www.foxnews.com/us/derek-chauvin-appeals-conviction-in-george-floyd-murder-arguing-trial-wasnt-fair\n",
      "Flyers' Ivan Provorov labeled 'homophobic' as he faces backlash for boycotting team's Pride festivities\n",
      "reddit_sucks423\n",
      "https://www.foxnews.com/sports/flyers-ivan-provorov-labeled-homophobic-faces-backlash-boycotting-teams-pride-fetivities\n",
      "Gaetz introduces 'Abolish the ATF Act' after ruling against stabilizing braces\n",
      "wiredog369\n",
      "https://www.foxnews.com/politics/gaetz-introduces-abolish-atf-act-ruling-against-stabilizing-braces\n",
      "Why does Sheila Jackson Lee want to criminalize the speech of white people?\n",
      "yuri_2022\n",
      "https://hotair.com/karen-townsend/2023/01/18/why-does-sheila-jackson-lee-want-to-criminalize-the-speech-of-white-people-n524532\n"
     ]
    }
   ],
   "source": [
    "headlines = []\n",
    "for submission in reddit.subreddit('Conservative').hot(limit=5):\n",
    "    print(submission.title)\n",
    "    print(submission.author)\n",
    "    print(submission.url)"
   ]
  }
 ],
 "metadata": {
  "kernelspec": {
   "display_name": "Python 3.8.8 ('base')",
   "language": "python",
   "name": "python3"
  },
  "language_info": {
   "codemirror_mode": {
    "name": "ipython",
    "version": 3
   },
   "file_extension": ".py",
   "mimetype": "text/x-python",
   "name": "python",
   "nbconvert_exporter": "python",
   "pygments_lexer": "ipython3",
   "version": "3.8.8"
  },
  "orig_nbformat": 4,
  "vscode": {
   "interpreter": {
    "hash": "e7046a90c64c61f4fdecf93fe975fd60e1c059577b7b01fb25d20cb7ad4b7a71"
   }
  }
 },
 "nbformat": 4,
 "nbformat_minor": 2
}
